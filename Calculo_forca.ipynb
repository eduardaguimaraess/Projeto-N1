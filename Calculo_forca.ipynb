{
  "nbformat": 4,
  "nbformat_minor": 0,
  "metadata": {
    "colab": {
      "provenance": [],
      "authorship_tag": "ABX9TyOHxZ679PHfI2AscTdU12HS",
      "include_colab_link": true
    },
    "kernelspec": {
      "name": "python3",
      "display_name": "Python 3"
    },
    "language_info": {
      "name": "python"
    }
  },
  "cells": [
    {
      "cell_type": "markdown",
      "metadata": {
        "id": "view-in-github",
        "colab_type": "text"
      },
      "source": [
        "<a href=\"https://colab.research.google.com/github/eduardaguimaraess/Projeto-N1/blob/main/Calculo_forca.ipynb\" target=\"_parent\"><img src=\"https://colab.research.google.com/assets/colab-badge.svg\" alt=\"Open In Colab\"/></a>"
      ]
    },
    {
      "cell_type": "code",
      "execution_count": 6,
      "metadata": {
        "colab": {
          "base_uri": "https://localhost:8080/"
        },
        "id": "3Qq8Mhsv6A-b",
        "outputId": "e1f5727a-8476-446c-d64f-4055a308566a"
      },
      "outputs": [
        {
          "output_type": "stream",
          "name": "stdout",
          "text": [
            "F(1,2) = 1.0666800000000001e-07 [-0.5773502691896258, -0.5773502691896258, -0.5773502691896258]\n"
          ]
        }
      ],
      "source": [
        "# Importando a biblioteca de matemática\n",
        "import math\n",
        "\n",
        "# Definindo as coordenadas para Q1\n",
        "x1 = 1\n",
        "y1 = 1\n",
        "z1 = 1\n",
        "\n",
        "# Definindo as coordenadas para Q2\n",
        "x2 = 2\n",
        "y2 = 2\n",
        "z2 = 2\n",
        "\n",
        "#  Definindo os valores para cada carga\n",
        "q1 = 9e-9\n",
        "q2 = -4e-9\n",
        "\n",
        "# Posição vetorial para calcular r\n",
        "rx = x2-x1\n",
        "ry = y2-y1\n",
        "rz = z2-z1\n",
        "\n",
        "# Definindo o vetor\n",
        "r_vetor = [rx,ry,rz]\n",
        "\n",
        "# Calculando o módulo do vetor\n",
        "r_modulo = math.sqrt(rx**2 + ry**2 + rz**2)\n",
        "\n",
        "# Calculando o versor\n",
        "r_versor = [(rx/r_modulo), (ry/r_modulo), (rz/r_modulo)]\n",
        "\n",
        "# Definindo a constante k\n",
        "k = 8.889e9\n",
        "\n",
        "# Módulo da força que Q1 faz em Q2\n",
        "f12 = abs(k*((q1*q2)/r_modulo**2)) # abs(absoluto) pra ficar sempre positivo, porque a força é positiva\n",
        "\n",
        "# condição para sentido\n",
        "if (q1 / q2) < 0:\n",
        "  r_versor = [-x for x in r_versor]\n",
        "  print(f\"F(1,2) = {f12} {r_versor}\")\n",
        "else:\n",
        "  print(f\"F(1,2) = {f12} {r_versor}\")\n"
      ]
    },
    {
      "cell_type": "code",
      "source": [],
      "metadata": {
        "id": "uWcwR1rK6dGe"
      },
      "execution_count": 3,
      "outputs": []
    }
  ]
}